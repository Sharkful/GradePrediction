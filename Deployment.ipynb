{
 "cells": [
  {
   "cell_type": "markdown",
   "id": "822f7e7c-05bc-4896-95a8-05c231553358",
   "metadata": {},
   "source": [
    "# Deployment of Nerual Models"
   ]
  },
  {
   "cell_type": "markdown",
   "id": "5c5d1957-fa52-410d-acf2-87cecd108ee9",
   "metadata": {},
   "source": [
    "## Load Libraries"
   ]
  },
  {
   "cell_type": "code",
   "execution_count": 1,
   "id": "e76597a4-d46c-485a-8b65-422571e3a32f",
   "metadata": {},
   "outputs": [],
   "source": [
    "import os\n",
    "import numpy as np\n",
    "import pandas as pd\n",
    "import tensorflow as tf\n",
    "import tensorflow.keras as keras\n",
    "import matplotlib.pyplot as plt\n",
    "from urllib.parse import urljoin\n",
    "from sklearn.preprocessing import LabelBinarizer\n",
    "from sklearn.model_selection import train_test_split"
   ]
  },
  {
   "cell_type": "markdown",
   "id": "02d0497d-dec5-4735-8bbc-a661bc1de866",
   "metadata": {},
   "source": [
    "## Define Functions for model construction"
   ]
  },
  {
   "cell_type": "markdown",
   "id": "b173bebf-fdce-4624-8348-7a79880fb05a",
   "metadata": {},
   "source": [
    "### Gen_Model\n",
    "This function takes in all the parameters required to construct, compile, and return a complete keras neural network model. This can be used directly with input parameters to build a single model, or used with a hyperparameter tuner."
   ]
  },
  {
   "cell_type": "code",
   "execution_count": 2,
   "id": "99598929-ef42-479c-b6a9-f166418cf725",
   "metadata": {},
   "outputs": [],
   "source": [
    "# General model builder\n",
    "def Gen_Model(input_shape, output_shape,\n",
    "              num_hl=1, hl_width=500, hl_activation='relu', resid=False,\n",
    "              dropout_rate=0.2, learning_rate=0.001):\n",
    "    # Build the input layer\n",
    "    x = y = keras.layers.Input(shape=input_shape)\n",
    "    # Build the hidden layers\n",
    "    y = keras.layers.Dropout(dropout_rate)(y)\n",
    "    y = keras.layers.Dense(hl_width, activation=hl_activation)(y)\n",
    "    if num_hl > 1: # Single hidden layer\n",
    "        for idx in range(num_hl-1):\n",
    "            if resid == False:\n",
    "                y = keras.layers.Dropout(dropout_rate)(y)\n",
    "                y = keras.layers.Dense(hl_width, activation=hl_activation)(y)\n",
    "            else: # Optionally add hidden layers\n",
    "                old_y = y\n",
    "                y = keras.layers.Dropout(dropout_rate)(y)\n",
    "                y = keras.layers.Dense(hl_width, activation=hl_activation)(y)\n",
    "                y = keras.layers.Add()([old_y,y])\n",
    "                y = keras.layers.LayerNormalization()(y)\n",
    "    # Build the output layer\n",
    "    y = keras.layers.Dense(output_shape, activation='softmax')(y)\n",
    "    # Compile the model\n",
    "    model = keras.Model(x,y)\n",
    "    model.compile(optimizer=keras.optimizers.Nadam(learning_rate=learning_rate), loss=\"categorical_crossentropy\", metrics=[\"accuracy\"])\n",
    "    return model"
   ]
  },
  {
   "cell_type": "markdown",
   "id": "b739366c-2188-4944-9021-79e3e8fb3275",
   "metadata": {},
   "source": [
    "### Gen_Model_Args\n",
    "Function that takes in a set of characters specifiying the configuration of the experiment, namely what data and targets are we using, and what type of architecture and model size are we using. The values governing the structure of the models were chosen after some initial experimentation. It is encouraged to try tweaking what values are assigned to a \"Small\" architecture, just as long as the number of parameters is somewhat consistent across architecture types of the same size.\n",
    "\n",
    "**Note that the Flat architecture does not have a Medium Size**"
   ]
  },
  {
   "cell_type": "code",
   "execution_count": 3,
   "id": "6b60ed97-67e1-4629-9a28-56832b1a5d06",
   "metadata": {},
   "outputs": [],
   "source": [
    "# feat: feature data being used\n",
    "# trgt: targets being used\n",
    "# arch: 'R' -> Residual structure (deep + residual)\n",
    "#       'D' -> Deep only structure\n",
    "#       'F' -> Flat structure\n",
    "# size: 'S' -> Small\n",
    "#       'M' -> Medium (Not available for flat structure)\n",
    "#       'L' -> Large\n",
    "def Gen_Model_Args(data, trgt, arch, size):\n",
    "    arg_data = dict()\n",
    "    # Set input and output shape\n",
    "    arg_data['input_shape'] = data.shape[1:]\n",
    "    arg_data['output_shape'] = trgt.shape[1]\n",
    "    # Set Residual structure\n",
    "    if arch == 'R':\n",
    "        arg_data['resid'] = True\n",
    "    else:\n",
    "        arg_data['resid'] = False\n",
    "    # Set layer structure\n",
    "    if arch == 'R' or arch == 'D':\n",
    "        if size == 'S':\n",
    "            arg_data['num_hl'] = 3\n",
    "            arg_data['hl_width'] = 150\n",
    "        elif size == 'M':\n",
    "            arg_data['num_hl'] = 4\n",
    "            arg_data['hl_width'] = 200\n",
    "        elif size == 'L':\n",
    "            arg_data['num_hl'] = 5\n",
    "            arg_data['hl_width'] = 250\n",
    "    elif arch == 'F':\n",
    "        arg_data['num_hl'] = 1\n",
    "        if size == 'S':\n",
    "            arg_data['hl_width'] = 500\n",
    "        elif size == 'L':\n",
    "            arg_data['hl_width'] = 1000\n",
    "    return arg_data"
   ]
  },
  {
   "cell_type": "markdown",
   "id": "12e2573d-c5a1-4e97-b594-61a094f6192a",
   "metadata": {},
   "source": [
    "## Optional GPU setup\n",
    "Uncomment the line with the device you wish to use"
   ]
  },
  {
   "cell_type": "code",
   "execution_count": 4,
   "id": "0f3efdeb-7c0a-4fb7-9907-51e1f258df54",
   "metadata": {},
   "outputs": [
    {
     "name": "stderr",
     "output_type": "stream",
     "text": [
      "2022-12-07 13:38:23.922812: W tensorflow/stream_executor/platform/default/dso_loader.cc:64] Could not load dynamic library 'libcuda.so.1'; dlerror: libcuda.so.1: cannot open shared object file: No such file or directory\n",
      "2022-12-07 13:38:23.922851: W tensorflow/stream_executor/cuda/cuda_driver.cc:269] failed call to cuInit: UNKNOWN ERROR (303)\n",
      "2022-12-07 13:38:23.922894: I tensorflow/stream_executor/cuda/cuda_diagnostics.cc:156] kernel driver does not appear to be running on this host (jupyter-irs2e): /proc/driver/nvidia/version does not exist\n",
      "2022-12-07 13:38:23.923917: I tensorflow/core/platform/cpu_feature_guard.cc:151] This TensorFlow binary is optimized with oneAPI Deep Neural Network Library (oneDNN) to use the following CPU instructions in performance-critical operations:  SSE4.1 SSE4.2 AVX FMA\n",
      "To enable them in other operations, rebuild TensorFlow with the appropriate compiler flags.\n"
     ]
    }
   ],
   "source": [
    "# Setup GPUs\n",
    "devices = tf.config.get_visible_devices()\n",
    "tf.config.set_visible_devices(devices[0:1]+devices[1:2])\n",
    "# strategy = tf.distribute.OneDeviceStrategy('gpu:0')\n",
    "strategy = tf.distribute.OneDeviceStrategy('cpu:0')"
   ]
  },
  {
   "cell_type": "markdown",
   "id": "397e2182-b6a3-43fc-9505-8023abf44ec3",
   "metadata": {},
   "source": [
    "## Parameters for the Experiment\n",
    "Set which dataset you wish to use, the number of features, the architecture, and the size of the model. **All values must be strings**\n",
    "\n",
    "**'F' architecture and 'S' size cannot be used together**"
   ]
  },
  {
   "cell_type": "code",
   "execution_count": 5,
   "id": "30467d36-dc72-47be-9523-ad56f7eed9fa",
   "metadata": {},
   "outputs": [],
   "source": [
    "# Assign arguments\n",
    "\n",
    "# \"X\" for xapi, \"P\" for portuguese\n",
    "dataset      = 'P'\n",
    "\n",
    "# [0, 10, 3], for all, 10, or 3 features\n",
    "features     = '0'\n",
    "\n",
    "# \"F\" for flat, \"D\" for deep, \"R\" for residual\n",
    "architecture = 'D'\n",
    "\n",
    "# \"S\" for small, \"M\" for medium, \"L\" for large\n",
    "size         = 'M'"
   ]
  },
  {
   "cell_type": "markdown",
   "id": "a2b66921-c9e6-4237-ad3b-8e3f78b27f1b",
   "metadata": {},
   "source": [
    "## Get the Data\n",
    "\n",
    "This block builds the url to request the data from a server. The dataset is relatively small"
   ]
  },
  {
   "cell_type": "code",
   "execution_count": 6,
   "id": "4c354395-9cca-460b-b9f6-9a1b22c8a84e",
   "metadata": {},
   "outputs": [],
   "source": [
    "# Construct the download URLS\n",
    "base_url = \"https://www.cs.mtsu.edu/~irs2e/data/\"\n",
    "X_url = \"X_\"\n",
    "Y_url = \"\"\n",
    "if dataset == \"X\": # xapi data\n",
    "    Y_url = urljoin(base_url, \"Y_xapi.csv\")\n",
    "    X_url += \"xapi\"\n",
    "else: # port data\n",
    "    Y_url = urljoin(base_url, \"Y_port.csv\")\n",
    "    X_url += \"port\"\n",
    "\n",
    "if features == \"0\":\n",
    "    X_url += \".csv\"\n",
    "elif features == \"3\":\n",
    "    X_url += \"_3.csv\"\n",
    "elif features == \"10\":\n",
    "    X_url += \"_10.csv\""
   ]
  },
  {
   "cell_type": "markdown",
   "id": "dd973f12-2e09-4090-92be-3271867d7507",
   "metadata": {},
   "source": [
    "Here we load the data in the scope of the strategy we chose. The data is cleaned and the targets are converted to a sparse categorical form. Then the data is randomly shuffled and split 80/20."
   ]
  },
  {
   "cell_type": "code",
   "execution_count": 7,
   "id": "a8d6ca2b-592d-4868-ab84-2e7e97c995a7",
   "metadata": {},
   "outputs": [],
   "source": [
    "with strategy.scope():\n",
    "    # Get the Data\n",
    "    X_url = urljoin(base_url, X_url)\n",
    "    Y_url = urljoin(base_url, Y_url)\n",
    "    X = pd.read_csv(X_url).drop(\"Unnamed: 0\", axis=1)\n",
    "    Y = LabelBinarizer().fit_transform(pd.read_csv(Y_url).drop(\"Unnamed: 0\", axis=1))\n",
    "\n",
    "    # Shuffle the data\n",
    "    samples = X.shape[0]\n",
    "    shuffle_idxs = np.random.permutation(samples)\n",
    "    X_sh = X.iloc[shuffle_idxs,:]\n",
    "    Y_sh = Y[shuffle_idxs,:]\n",
    "\n",
    "    # Split the data\n",
    "    X_tr, X_te, Y_tr, Y_te = train_test_split(X_sh, Y_sh, test_size=0.2)"
   ]
  },
  {
   "cell_type": "markdown",
   "id": "3d6262e7-2d96-4bd3-b473-53110cb8f32d",
   "metadata": {},
   "source": [
    "## Build the Model\n",
    "\n",
    "Here we get the necessary arguments for our model builder by passing in our dataset and configuration values to Gen_Model_Args. The resulting \"args\" object is a dictionary containing some of the arguments needed to build the model, changed to automatically match the dataset, architecture, and size specified above.\n",
    "\n",
    "The Activation function, dropout rate, and learning rate are all provided directly, being the result of an earlier parameter search done with keras tuner."
   ]
  },
  {
   "cell_type": "code",
   "execution_count": 8,
   "id": "16800b1c-55a9-43de-8f6d-375887f40ee7",
   "metadata": {},
   "outputs": [],
   "source": [
    "with strategy.scope():\n",
    "    # Get the args for the model builder\n",
    "    args = Gen_Model_Args(X_tr, Y_tr, architecture, size)\n",
    "\n",
    "    # Build the model\n",
    "    model = Gen_Model(args['input_shape'],\n",
    "                      args['output_shape'],\n",
    "                      args['num_hl'],\n",
    "                      args['hl_width'],\n",
    "                      'tanh',              # Activation function\n",
    "                      args['resid'],\n",
    "                      0.2,                 # Dropout Rate\n",
    "                      0.001)               # Learning Rate"
   ]
  },
  {
   "cell_type": "markdown",
   "id": "d07f6892-f07e-4670-b179-35d622943a18",
   "metadata": {},
   "source": [
    "## Run the Model\n",
    "\n",
    "Here we run the model, specifying 100 epochs as the high end of the model, but also adding a, Early Stopping callback that detects when the validation loss is no longer improving. The validation split is set to 0.15 since our data set is very small to begin with. The patience and validation split values can be experimented with to determine which perform the best."
   ]
  },
  {
   "cell_type": "code",
   "execution_count": 9,
   "id": "683e0848-e940-4c65-831d-a49820603275",
   "metadata": {},
   "outputs": [
    {
     "name": "stderr",
     "output_type": "stream",
     "text": [
      "2022-12-07 13:38:26.192787: W tensorflow/core/grappler/optimizers/data/auto_shard.cc:776] AUTO sharding policy will apply DATA sharding policy as it failed to apply FILE sharding policy because of the following reason: Did not find a shardable source, walked to a node which is not a dataset: name: \"FlatMapDataset/_9\"\n",
      "op: \"FlatMapDataset\"\n",
      "input: \"PrefetchDataset/_8\"\n",
      "attr {\n",
      "  key: \"Targuments\"\n",
      "  value {\n",
      "    list {\n",
      "    }\n",
      "  }\n",
      "}\n",
      "attr {\n",
      "  key: \"_cardinality\"\n",
      "  value {\n",
      "    i: -2\n",
      "  }\n",
      "}\n",
      "attr {\n",
      "  key: \"f\"\n",
      "  value {\n",
      "    func {\n",
      "      name: \"__inference_Dataset_flat_map_slice_batch_indices_184\"\n",
      "    }\n",
      "  }\n",
      "}\n",
      "attr {\n",
      "  key: \"metadata\"\n",
      "  value {\n",
      "    s: \"\\n\\020FlatMapDataset:4\"\n",
      "  }\n",
      "}\n",
      "attr {\n",
      "  key: \"output_shapes\"\n",
      "  value {\n",
      "    list {\n",
      "      shape {\n",
      "        dim {\n",
      "          size: -1\n",
      "        }\n",
      "      }\n",
      "    }\n",
      "  }\n",
      "}\n",
      "attr {\n",
      "  key: \"output_types\"\n",
      "  value {\n",
      "    list {\n",
      "      type: DT_INT64\n",
      "    }\n",
      "  }\n",
      "}\n",
      "experimental_type {\n",
      "  type_id: TFT_PRODUCT\n",
      "  args {\n",
      "    type_id: TFT_DATASET\n",
      "    args {\n",
      "      type_id: TFT_PRODUCT\n",
      "      args {\n",
      "        type_id: TFT_TENSOR\n",
      "        args {\n",
      "          type_id: TFT_INT64\n",
      "        }\n",
      "      }\n",
      "    }\n",
      "  }\n",
      "  args {\n",
      "    type_id: TFT_DATASET\n",
      "    args {\n",
      "      type_id: TFT_PRODUCT\n",
      "      args {\n",
      "        type_id: TFT_TENSOR\n",
      "        args {\n",
      "          type_id: TFT_INT64\n",
      "        }\n",
      "      }\n",
      "    }\n",
      "  }\n",
      "}\n",
      ". Consider either turning off auto-sharding or switching the auto_shard_policy to DATA to shard this dataset. You can do this by creating a new `tf.data.Options()` object then setting `options.experimental_distribute.auto_shard_policy = AutoShardPolicy.DATA` before applying the options object to the dataset via `dataset.with_options(options)`.\n",
      "2022-12-07 13:38:26.278605: W tensorflow/core/framework/dataset.cc:768] Input of GeneratorDatasetOp::Dataset will not be optimized because the dataset does not implement the AsGraphDefInternal() method needed to apply optimizations.\n",
      "2022-12-07 13:38:27.815371: W tensorflow/core/grappler/optimizers/data/auto_shard.cc:776] AUTO sharding policy will apply DATA sharding policy as it failed to apply FILE sharding policy because of the following reason: Did not find a shardable source, walked to a node which is not a dataset: name: \"FlatMapDataset/_9\"\n",
      "op: \"FlatMapDataset\"\n",
      "input: \"PrefetchDataset/_8\"\n",
      "attr {\n",
      "  key: \"Targuments\"\n",
      "  value {\n",
      "    list {\n",
      "    }\n",
      "  }\n",
      "}\n",
      "attr {\n",
      "  key: \"_cardinality\"\n",
      "  value {\n",
      "    i: -2\n",
      "  }\n",
      "}\n",
      "attr {\n",
      "  key: \"f\"\n",
      "  value {\n",
      "    func {\n",
      "      name: \"__inference_Dataset_flat_map_slice_batch_indices_1582\"\n",
      "    }\n",
      "  }\n",
      "}\n",
      "attr {\n",
      "  key: \"metadata\"\n",
      "  value {\n",
      "    s: \"\\n\\021FlatMapDataset:49\"\n",
      "  }\n",
      "}\n",
      "attr {\n",
      "  key: \"output_shapes\"\n",
      "  value {\n",
      "    list {\n",
      "      shape {\n",
      "        dim {\n",
      "          size: -1\n",
      "        }\n",
      "      }\n",
      "    }\n",
      "  }\n",
      "}\n",
      "attr {\n",
      "  key: \"output_types\"\n",
      "  value {\n",
      "    list {\n",
      "      type: DT_INT64\n",
      "    }\n",
      "  }\n",
      "}\n",
      "experimental_type {\n",
      "  type_id: TFT_PRODUCT\n",
      "  args {\n",
      "    type_id: TFT_DATASET\n",
      "    args {\n",
      "      type_id: TFT_PRODUCT\n",
      "      args {\n",
      "        type_id: TFT_TENSOR\n",
      "        args {\n",
      "          type_id: TFT_INT64\n",
      "        }\n",
      "      }\n",
      "    }\n",
      "  }\n",
      "  args {\n",
      "    type_id: TFT_DATASET\n",
      "    args {\n",
      "      type_id: TFT_PRODUCT\n",
      "      args {\n",
      "        type_id: TFT_TENSOR\n",
      "        args {\n",
      "          type_id: TFT_INT64\n",
      "        }\n",
      "      }\n",
      "    }\n",
      "  }\n",
      "}\n",
      ". Consider either turning off auto-sharding or switching the auto_shard_policy to DATA to shard this dataset. You can do this by creating a new `tf.data.Options()` object then setting `options.experimental_distribute.auto_shard_policy = AutoShardPolicy.DATA` before applying the options object to the dataset via `dataset.with_options(options)`.\n"
     ]
    }
   ],
   "source": [
    "with strategy.scope():\n",
    "    # Fit the model\n",
    "    stop_early = keras.callbacks.EarlyStopping(monitor='val_loss', patience=5, restore_best_weights=True)\n",
    "    history = model.fit(X_tr, Y_tr,\n",
    "                        epochs=100,\n",
    "                        validation_split=0.15,\n",
    "                        callbacks=[stop_early],\n",
    "                        verbose=0)"
   ]
  },
  {
   "cell_type": "markdown",
   "id": "66c0c71d-554f-47da-9375-4fcca35c9709",
   "metadata": {},
   "source": [
    "## Get and Print Output"
   ]
  },
  {
   "cell_type": "code",
   "execution_count": 10,
   "id": "af503d9f-3490-4cb1-94ab-b18f68bb4789",
   "metadata": {},
   "outputs": [
    {
     "name": "stdout",
     "output_type": "stream",
     "text": [
      "10/10 [==============================] - 0s 3ms/step - loss: 1.2222 - accuracy: 0.4842\n",
      "Training accuracy: 0.30223879 0.38059703 0.35074627 0.38805971 0.42910448 0.36940297 0.44029850 0.47761193 0.43656716 0.45149255 0.42910448 0.47388059 0.52985072\n",
      "Training loss: 1.60754919 1.48896885 1.47412527 1.40789580 1.33960307 1.41460168 1.35555661 1.26058781 1.28027213 1.29115140 1.28315055 1.25923061 1.27112091\n",
      "Validation accuracy: 0.29166666 0.29166666 0.31250000 0.22916667 0.27083334 0.25000000 0.16666667 0.39583334 0.29166666 0.25000000 0.29166666 0.27083334 0.20833333\n",
      "Validation loss: 1.64155543 1.65110695 1.66703260 1.63083458 1.71882403 1.83545029 1.74379921 1.59744871 1.81649745 1.91371214 1.70522249 1.75679362 1.81425512\n",
      "Test accuracy: 0.48417720198631287\n"
     ]
    },
    {
     "name": "stderr",
     "output_type": "stream",
     "text": [
      "2022-12-07 13:38:30.550726: W tensorflow/core/grappler/optimizers/data/auto_shard.cc:776] AUTO sharding policy will apply DATA sharding policy as it failed to apply FILE sharding policy because of the following reason: Did not find a shardable source, walked to a node which is not a dataset: name: \"FlatMapDataset/_9\"\n",
      "op: \"FlatMapDataset\"\n",
      "input: \"PrefetchDataset/_8\"\n",
      "attr {\n",
      "  key: \"Targuments\"\n",
      "  value {\n",
      "    list {\n",
      "    }\n",
      "  }\n",
      "}\n",
      "attr {\n",
      "  key: \"_cardinality\"\n",
      "  value {\n",
      "    i: -2\n",
      "  }\n",
      "}\n",
      "attr {\n",
      "  key: \"f\"\n",
      "  value {\n",
      "    func {\n",
      "      name: \"__inference_Dataset_flat_map_slice_batch_indices_3292\"\n",
      "    }\n",
      "  }\n",
      "}\n",
      "attr {\n",
      "  key: \"metadata\"\n",
      "  value {\n",
      "    s: \"\\n\\022FlatMapDataset:214\"\n",
      "  }\n",
      "}\n",
      "attr {\n",
      "  key: \"output_shapes\"\n",
      "  value {\n",
      "    list {\n",
      "      shape {\n",
      "        dim {\n",
      "          size: -1\n",
      "        }\n",
      "      }\n",
      "    }\n",
      "  }\n",
      "}\n",
      "attr {\n",
      "  key: \"output_types\"\n",
      "  value {\n",
      "    list {\n",
      "      type: DT_INT64\n",
      "    }\n",
      "  }\n",
      "}\n",
      "experimental_type {\n",
      "  type_id: TFT_PRODUCT\n",
      "  args {\n",
      "    type_id: TFT_DATASET\n",
      "    args {\n",
      "      type_id: TFT_PRODUCT\n",
      "      args {\n",
      "        type_id: TFT_TENSOR\n",
      "        args {\n",
      "          type_id: TFT_INT64\n",
      "        }\n",
      "      }\n",
      "    }\n",
      "  }\n",
      "  args {\n",
      "    type_id: TFT_DATASET\n",
      "    args {\n",
      "      type_id: TFT_PRODUCT\n",
      "      args {\n",
      "        type_id: TFT_TENSOR\n",
      "        args {\n",
      "          type_id: TFT_INT64\n",
      "        }\n",
      "      }\n",
      "    }\n",
      "  }\n",
      "}\n",
      ". Consider either turning off auto-sharding or switching the auto_shard_policy to DATA to shard this dataset. You can do this by creating a new `tf.data.Options()` object then setting `options.experimental_distribute.auto_shard_policy = AutoShardPolicy.DATA` before applying the options object to the dataset via `dataset.with_options(options)`.\n"
     ]
    }
   ],
   "source": [
    "with strategy.scope():\n",
    "    # Get the test accuracy\n",
    "    acc = model.evaluate(X_tr, Y_tr)[1]\n",
    "\n",
    "    # print output\n",
    "    print(\"Training accuracy:\",*[\"%.8f\"%(x) for x in history.history['accuracy']])\n",
    "    print(\"Training loss:\",*[\"%.8f\"%(x) for x in history.history['loss']])\n",
    "    print(\"Validation accuracy:\",*[\"%.8f\"%(x) for x in history.history['val_accuracy']])\n",
    "    print(\"Validation loss:\",*[\"%.8f\"%(x) for x in history.history['val_loss']])\n",
    "    print(\"Test accuracy:\", acc)"
   ]
  },
  {
   "cell_type": "markdown",
   "id": "591c48ae-fb8a-4fde-b5ab-01fe080feddf",
   "metadata": {},
   "source": [
    "## Store the Results\n",
    "\n",
    "Stores the results of this run as a unique txt file combining the specifiers for the dataset, number of features, architecture, and size to create the file name. Note, this overwrites by default to avoid mixing runs where you tweak other parameters that do not affect the file name."
   ]
  },
  {
   "cell_type": "code",
   "execution_count": 11,
   "id": "fbf35f59-3184-466d-b69d-b9ea1df40be8",
   "metadata": {},
   "outputs": [],
   "source": [
    "my_dir = os.getcwd()\n",
    "run_results_fp = os.path.join(my_dir, 'Results', dataset+features+architecture+size+'.txt')\n",
    "with open(run_results_fp, 'w') as f:\n",
    "    f.write(\"Training accuracy: \" + ' '.join([\"%.8f\"%(x) for x in history.history['accuracy']]) + \"\\n\")\n",
    "    f.write(\"Training loss: \" + ' '.join([\"%.8f\"%(x) for x in history.history['loss']]) + \"\\n\")\n",
    "    f.write(\"Validation accuracy: \" + ' '.join([\"%.8f\"%(x) for x in history.history['val_accuracy']]) + \"\\n\")\n",
    "    f.write(\"Validation loss: \" + ' '.join([\"%.8f\"%(x) for x in history.history['val_loss']]) + \"\\n\")\n",
    "    f.write(\"Test accuracy: \" + str(acc))"
   ]
  },
  {
   "cell_type": "markdown",
   "id": "46b2bab3-6308-41ba-b846-0bca9c2be877",
   "metadata": {},
   "source": [
    "## Plot the Results\n",
    "This will plot the results of the current run"
   ]
  },
  {
   "cell_type": "code",
   "execution_count": 12,
   "id": "3a30eb30-3fce-4871-8d9c-5ada0a3dab53",
   "metadata": {},
   "outputs": [
    {
     "data": {
      "image/png": "[encoded data removed]",
      "text/plain": [
       "<Figure size 432x288 with 1 Axes>"
      ]
     },
     "metadata": {
      "needs_background": "light"
     },
     "output_type": "display_data"
    }
   ],
   "source": [
    "plt.plot(np.arange(0,len(history.history['val_accuracy'])),\n",
    "         history.history['val_accuracy'],\n",
    "         label='Validation Accuracy')\n",
    "plt.plot(np.arange(0,len(history.history['accuracy'])),\n",
    "         history.history['accuracy'],\n",
    "         label='Training Accuracy')\n",
    "plt.axhline(y = acc, color = 'r', linestyle = '--', label=\"Test Accuracy\")\n",
    "plt.title('Accuracy During Training')\n",
    "plt.xlabel('Epoch')\n",
    "plt.ylabel('Accuracy')\n",
    "plt.legend()\n",
    "plt.show()"
   ]
  },
  {
   "cell_type": "code",
   "execution_count": 13,
   "id": "292a7c88-399c-4dd7-8739-ea1f99117231",
   "metadata": {},
   "outputs": [
    {
     "data": {
      "image/png": "[encoded data removed]",
      "text/plain": [
       "<Figure size 432x288 with 1 Axes>"
      ]
     },
     "metadata": {
      "needs_background": "light"
     },
     "output_type": "display_data"
    }
   ],
   "source": [
    "plt.plot(np.arange(0,len(history.history['val_loss'])),\n",
    "         history.history['val_loss'],\n",
    "         label='Validation Loss')\n",
    "plt.plot(np.arange(0,len(history.history['loss'])),\n",
    "         history.history['loss'],\n",
    "         label='Training Loss')\n",
    "plt.title('Loss During Training')\n",
    "plt.xlabel('Epoch')\n",
    "plt.ylabel('Loss')\n",
    "plt.legend()\n",
    "plt.show()"
   ]
  },
  {
   "cell_type": "code",
   "execution_count": null,
   "id": "2e60d2a5-48cf-4980-b16e-7a456d9c8d88",
   "metadata": {},
   "outputs": [],
   "source": []
  }
 ],
 "metadata": {
  "kernelspec": {
   "display_name": "Python 3 (ipykernel)",
   "language": "python",
   "name": "python3"
  },
  "language_info": {
   "codemirror_mode": {
    "name": "ipython",
    "version": 3
   },
   "file_extension": ".py",
   "mimetype": "text/x-python",
   "name": "python",
   "nbconvert_exporter": "python",
   "pygments_lexer": "ipython3",
   "version": "3.10.5"
  }
 },
 "nbformat": 4,
 "nbformat_minor": 5
}
